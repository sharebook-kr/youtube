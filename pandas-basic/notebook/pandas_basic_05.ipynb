{
 "cells": [
  {
   "cell_type": "markdown",
   "id": "a8207d05",
   "metadata": {},
   "source": [
    "# 시리즈 연산"
   ]
  },
  {
   "cell_type": "markdown",
   "id": "e5b15622",
   "metadata": {},
   "source": [
    "## 브로드 캐스팅"
   ]
  },
  {
   "cell_type": "code",
   "execution_count": 1,
   "id": "0888f32d",
   "metadata": {},
   "outputs": [
    {
     "data": {
      "text/plain": [
       "0    100\n",
       "1    200\n",
       "2    300\n",
       "dtype: int64"
      ]
     },
     "execution_count": 1,
     "metadata": {},
     "output_type": "execute_result"
    }
   ],
   "source": [
    "import pandas as pd\n",
    "\n",
    "s = pd.Series(data=[100, 200, 300])\n",
    "s"
   ]
  },
  {
   "cell_type": "code",
   "execution_count": 2,
   "id": "6ac32c73",
   "metadata": {},
   "outputs": [
    {
     "data": {
      "text/plain": [
       "0    110\n",
       "1    210\n",
       "2    310\n",
       "dtype: int64"
      ]
     },
     "execution_count": 2,
     "metadata": {},
     "output_type": "execute_result"
    }
   ],
   "source": [
    "s + 10"
   ]
  },
  {
   "cell_type": "markdown",
   "id": "4347fdc7",
   "metadata": {},
   "source": [
    "## 사칙연산"
   ]
  },
  {
   "cell_type": "code",
   "execution_count": 6,
   "id": "e0a4a969",
   "metadata": {},
   "outputs": [],
   "source": [
    "high = pd.Series([51500, 51200, 52500, 51500, 51500])\n",
    "low = pd.Series([50700, 50500, 50500, 50800, 50700])"
   ]
  },
  {
   "cell_type": "code",
   "execution_count": 7,
   "id": "9f8a89a5",
   "metadata": {},
   "outputs": [
    {
     "data": {
      "text/plain": [
       "0     800\n",
       "1     700\n",
       "2    2000\n",
       "3     700\n",
       "4     800\n",
       "dtype: int64"
      ]
     },
     "execution_count": 7,
     "metadata": {},
     "output_type": "execute_result"
    }
   ],
   "source": [
    "diff = high - low\n",
    "diff"
   ]
  },
  {
   "cell_type": "code",
   "execution_count": 9,
   "id": "98eb67c2",
   "metadata": {},
   "outputs": [],
   "source": [
    "high = pd.Series(data=[51500, 51200, 52500], index=[\"5/1\", \"5/2\", \"5/3\"])\n",
    "low = pd.Series(data=[50700, 50500, 50500], index=[\"5/1\", \"5/2\", \"5/4\"])"
   ]
  },
  {
   "cell_type": "code",
   "execution_count": 10,
   "id": "52019e71",
   "metadata": {},
   "outputs": [
    {
     "data": {
      "text/plain": [
       "5/1    800.0\n",
       "5/2    700.0\n",
       "5/3      NaN\n",
       "5/4      NaN\n",
       "dtype: float64"
      ]
     },
     "execution_count": 10,
     "metadata": {},
     "output_type": "execute_result"
    }
   ],
   "source": [
    "diff = high - low\n",
    "diff"
   ]
  },
  {
   "cell_type": "markdown",
   "id": "3ad88e30",
   "metadata": {},
   "source": [
    "## 시리즈 비교 연산"
   ]
  },
  {
   "cell_type": "code",
   "execution_count": 12,
   "id": "ca995d30",
   "metadata": {},
   "outputs": [
    {
     "data": {
      "text/plain": [
       "0    False\n",
       "1    False\n",
       "2    False\n",
       "3     True\n",
       "4     True\n",
       "dtype: bool"
      ]
     },
     "execution_count": 12,
     "metadata": {},
     "output_type": "execute_result"
    }
   ],
   "source": [
    "from pandas import Series\n",
    "\n",
    "s = Series(data=[100, 200, 300, 400, 500])\n",
    "cond = s > 300\n",
    "cond"
   ]
  },
  {
   "cell_type": "code",
   "execution_count": 13,
   "id": "8ef6244e",
   "metadata": {},
   "outputs": [
    {
     "data": {
      "text/plain": [
       "3    400\n",
       "4    500\n",
       "dtype: int64"
      ]
     },
     "execution_count": 13,
     "metadata": {},
     "output_type": "execute_result"
    }
   ],
   "source": [
    "s[cond]"
   ]
  },
  {
   "cell_type": "markdown",
   "id": "605fda27",
   "metadata": {},
   "source": [
    "## 시리즈 필터링"
   ]
  },
  {
   "cell_type": "code",
   "execution_count": 14,
   "id": "d8dcee8b",
   "metadata": {},
   "outputs": [],
   "source": [
    "시가 = Series([100, 200, 300, 400, 600])\n",
    "종가 = Series([100, 300, 400, 500, 600])"
   ]
  },
  {
   "cell_type": "code",
   "execution_count": 15,
   "id": "cd10a837",
   "metadata": {},
   "outputs": [
    {
     "data": {
      "text/plain": [
       "0    False\n",
       "1    False\n",
       "2     True\n",
       "3     True\n",
       "4     True\n",
       "dtype: bool"
      ]
     },
     "execution_count": 15,
     "metadata": {},
     "output_type": "execute_result"
    }
   ],
   "source": [
    "조건 = (시가 >= 300)\n",
    "조건"
   ]
  },
  {
   "cell_type": "code",
   "execution_count": 16,
   "id": "d2b9ac59",
   "metadata": {},
   "outputs": [
    {
     "data": {
      "text/plain": [
       "2    400\n",
       "3    500\n",
       "4    600\n",
       "dtype: int64"
      ]
     },
     "execution_count": 16,
     "metadata": {},
     "output_type": "execute_result"
    }
   ],
   "source": [
    "종가[조건]"
   ]
  },
  {
   "cell_type": "markdown",
   "id": "96a48730",
   "metadata": {},
   "source": [
    "## 연습 문제"
   ]
  },
  {
   "cell_type": "code",
   "execution_count": 17,
   "id": "718f1fe6",
   "metadata": {},
   "outputs": [
    {
     "data": {
      "text/plain": [
       "1    300\n",
       "2    400\n",
       "3    500\n",
       "dtype: int64"
      ]
     },
     "execution_count": 17,
     "metadata": {},
     "output_type": "execute_result"
    }
   ],
   "source": [
    "저가 = Series([10, 200, 200, 400, 600])\n",
    "고가 = Series([100, 300, 400, 500, 600])\n",
    "\n",
    "조건 = (고가 - 저가) >= 100\n",
    "고가[조건]"
   ]
  },
  {
   "cell_type": "code",
   "execution_count": 18,
   "id": "febd6b25",
   "metadata": {},
   "outputs": [
    {
     "data": {
      "text/plain": [
       "05/14    93000\n",
       "05/15    82400\n",
       "05/16    99100\n",
       "05/17    81000\n",
       "05/18    72300\n",
       "dtype: int64"
      ]
     },
     "execution_count": 18,
     "metadata": {},
     "output_type": "execute_result"
    }
   ],
   "source": [
    "data = [93000, 82400, 99100, 81000, 72300]\n",
    "index = ['05/14', '05/15', '05/16', '05/17', '05/18']\n",
    "종가 = pd.Series(data=data, index=index)\n",
    "종가"
   ]
  },
  {
   "cell_type": "code",
   "execution_count": 19,
   "id": "2a90c1a4",
   "metadata": {},
   "outputs": [
    {
     "data": {
      "text/plain": [
       "05/15    82400\n",
       "05/17    81000\n",
       "dtype: int64"
      ]
     },
     "execution_count": 19,
     "metadata": {},
     "output_type": "execute_result"
    }
   ],
   "source": [
    "조건 = (종가 >= 80000) & (종가 < 90000)\n",
    "종가[조건]"
   ]
  },
  {
   "cell_type": "code",
   "execution_count": 20,
   "id": "de6b3cf0",
   "metadata": {},
   "outputs": [
    {
     "data": {
      "text/plain": [
       "Index(['05/15', '05/17'], dtype='object')"
      ]
     },
     "execution_count": 20,
     "metadata": {},
     "output_type": "execute_result"
    }
   ],
   "source": [
    "종가[조건].index"
   ]
  },
  {
   "cell_type": "code",
   "execution_count": 21,
   "id": "4521eed3",
   "metadata": {},
   "outputs": [
    {
     "name": "stdout",
     "output_type": "stream",
     "text": [
      "05/15\n",
      "05/17\n"
     ]
    }
   ],
   "source": [
    "for date in 종가[조건].index:\n",
    "    print(date)"
   ]
  },
  {
   "cell_type": "code",
   "execution_count": null,
   "id": "79354685",
   "metadata": {},
   "outputs": [],
   "source": []
  }
 ],
 "metadata": {
  "kernelspec": {
   "display_name": "Python 3 (ipykernel)",
   "language": "python",
   "name": "python3"
  },
  "language_info": {
   "codemirror_mode": {
    "name": "ipython",
    "version": 3
   },
   "file_extension": ".py",
   "mimetype": "text/x-python",
   "name": "python",
   "nbconvert_exporter": "python",
   "pygments_lexer": "ipython3",
   "version": "3.9.12"
  }
 },
 "nbformat": 4,
 "nbformat_minor": 5
}
