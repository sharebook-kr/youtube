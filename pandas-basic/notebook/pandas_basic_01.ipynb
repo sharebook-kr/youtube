{
 "cells": [
  {
   "cell_type": "markdown",
   "id": "46c2d636",
   "metadata": {},
   "source": [
    "# NumPy 기초"
   ]
  },
  {
   "cell_type": "markdown",
   "id": "c489ceb7",
   "metadata": {},
   "source": [
    "## 넘파이 임포트"
   ]
  },
  {
   "cell_type": "code",
   "execution_count": 1,
   "id": "3d5ff16d",
   "metadata": {},
   "outputs": [],
   "source": [
    "import numpy as np"
   ]
  },
  {
   "cell_type": "markdown",
   "id": "aa845186",
   "metadata": {},
   "source": [
    "## 파이썬 리스트"
   ]
  },
  {
   "cell_type": "code",
   "execution_count": 2,
   "id": "33a91f7b",
   "metadata": {},
   "outputs": [
    {
     "data": {
      "text/plain": [
       "[10, 20, 30, 40]"
      ]
     },
     "execution_count": 2,
     "metadata": {},
     "output_type": "execute_result"
    }
   ],
   "source": [
    "data = [1, 2, 3, 4]\n",
    "result = []\n",
    "\n",
    "for i in data:\n",
    "    result.append(i * 10)\n",
    "result"
   ]
  },
  {
   "cell_type": "markdown",
   "id": "9ddd4173",
   "metadata": {},
   "source": [
    "## ndarray"
   ]
  },
  {
   "cell_type": "code",
   "execution_count": 3,
   "id": "67618ac8",
   "metadata": {},
   "outputs": [
    {
     "data": {
      "text/plain": [
       "array([10, 20, 30, 40])"
      ]
     },
     "execution_count": 3,
     "metadata": {},
     "output_type": "execute_result"
    }
   ],
   "source": [
    "import numpy as np\n",
    "\n",
    "arr = np.array([1, 2, 3, 4])\n",
    "arr10 = arr * 10\n",
    "arr10"
   ]
  },
  {
   "cell_type": "markdown",
   "id": "ef94ee67",
   "metadata": {},
   "source": [
    "## 2차원 데이터"
   ]
  },
  {
   "cell_type": "markdown",
   "id": "578bd421",
   "metadata": {},
   "source": [
    "데이터를 행 단위로 구성하는 경우 열 단위로 인덱싱할 수 없습니다. "
   ]
  },
  {
   "cell_type": "code",
   "execution_count": 4,
   "id": "05eeaead",
   "metadata": {},
   "outputs": [
    {
     "data": {
      "text/plain": [
       "[100, 80, 70, 90]"
      ]
     },
     "execution_count": 4,
     "metadata": {},
     "output_type": "execute_result"
    }
   ],
   "source": [
    "price = [\n",
    "    [100, 80, 70, 90],\n",
    "    [120, 110, 100, 110]\n",
    "]\n",
    "\n",
    "price[0]"
   ]
  },
  {
   "cell_type": "code",
   "execution_count": 5,
   "id": "0fc28270",
   "metadata": {},
   "outputs": [
    {
     "data": {
      "text/plain": [
       "array([[100,  80,  70,  90],\n",
       "       [120, 110, 100, 110]])"
      ]
     },
     "execution_count": 5,
     "metadata": {},
     "output_type": "execute_result"
    }
   ],
   "source": [
    "import numpy as np\n",
    "\n",
    "arr = np.array(price)\n",
    "arr"
   ]
  },
  {
   "cell_type": "markdown",
   "id": "d93809fa",
   "metadata": {},
   "source": [
    "## 넘파이 인덱싱"
   ]
  },
  {
   "cell_type": "code",
   "execution_count": 6,
   "id": "362b82c5",
   "metadata": {},
   "outputs": [
    {
     "data": {
      "text/plain": [
       "array([100,  80,  70,  90])"
      ]
     },
     "execution_count": 6,
     "metadata": {},
     "output_type": "execute_result"
    }
   ],
   "source": [
    "arr[0]"
   ]
  },
  {
   "cell_type": "code",
   "execution_count": 7,
   "id": "152138a6",
   "metadata": {},
   "outputs": [
    {
     "data": {
      "text/plain": [
       "array([120, 110, 100, 110])"
      ]
     },
     "execution_count": 7,
     "metadata": {},
     "output_type": "execute_result"
    }
   ],
   "source": [
    "arr[1]"
   ]
  },
  {
   "cell_type": "code",
   "execution_count": 8,
   "id": "7925b25e",
   "metadata": {},
   "outputs": [
    {
     "data": {
      "text/plain": [
       "100"
      ]
     },
     "execution_count": 8,
     "metadata": {},
     "output_type": "execute_result"
    }
   ],
   "source": [
    "arr[0, 0]"
   ]
  },
  {
   "cell_type": "code",
   "execution_count": 9,
   "id": "4645262c",
   "metadata": {},
   "outputs": [
    {
     "data": {
      "text/plain": [
       "120"
      ]
     },
     "execution_count": 9,
     "metadata": {},
     "output_type": "execute_result"
    }
   ],
   "source": [
    "arr[1, 0]"
   ]
  },
  {
   "cell_type": "code",
   "execution_count": 11,
   "id": "5e56633a",
   "metadata": {},
   "outputs": [
    {
     "data": {
      "text/plain": [
       "array([100, 120])"
      ]
     },
     "execution_count": 11,
     "metadata": {},
     "output_type": "execute_result"
    }
   ],
   "source": [
    "arr[:, 0] # 첫 번째 컬럼"
   ]
  },
  {
   "cell_type": "code",
   "execution_count": null,
   "id": "2416c66d",
   "metadata": {},
   "outputs": [],
   "source": []
  }
 ],
 "metadata": {
  "kernelspec": {
   "display_name": "Python 3 (ipykernel)",
   "language": "python",
   "name": "python3"
  },
  "language_info": {
   "codemirror_mode": {
    "name": "ipython",
    "version": 3
   },
   "file_extension": ".py",
   "mimetype": "text/x-python",
   "name": "python",
   "nbconvert_exporter": "python",
   "pygments_lexer": "ipython3",
   "version": "3.9.12"
  }
 },
 "nbformat": 4,
 "nbformat_minor": 5
}
