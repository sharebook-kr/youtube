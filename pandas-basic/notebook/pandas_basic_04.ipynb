{
 "cells": [
  {
   "cell_type": "markdown",
   "id": "0ffdb2fd",
   "metadata": {},
   "source": [
    "# 시리즈 추가/삭제/수정"
   ]
  },
  {
   "cell_type": "markdown",
   "id": "1e950fe0",
   "metadata": {},
   "source": [
    "# 시리즈에 값 추가"
   ]
  },
  {
   "cell_type": "code",
   "execution_count": 1,
   "id": "651b08b2",
   "metadata": {},
   "outputs": [
    {
     "data": {
      "text/plain": [
       "월    100\n",
       "화    200\n",
       "수    300\n",
       "dtype: int64"
      ]
     },
     "execution_count": 1,
     "metadata": {},
     "output_type": "execute_result"
    }
   ],
   "source": [
    "import pandas as pd\n",
    "\n",
    "data = [100, 200, 300]\n",
    "index = [\"월\", \"화\", \"수\"]\n",
    "s = pd.Series(data=data, index=index)\n",
    "s"
   ]
  },
  {
   "cell_type": "code",
   "execution_count": 2,
   "id": "c6f03625",
   "metadata": {},
   "outputs": [],
   "source": [
    "s['목'] = 400"
   ]
  },
  {
   "cell_type": "code",
   "execution_count": 3,
   "id": "7c03e395",
   "metadata": {},
   "outputs": [
    {
     "data": {
      "text/plain": [
       "월    100\n",
       "화    200\n",
       "수    300\n",
       "목    400\n",
       "dtype: int64"
      ]
     },
     "execution_count": 3,
     "metadata": {},
     "output_type": "execute_result"
    }
   ],
   "source": [
    "s"
   ]
  },
  {
   "cell_type": "markdown",
   "id": "c0407864",
   "metadata": {},
   "source": [
    "## 시리즈에 값 삭제"
   ]
  },
  {
   "cell_type": "code",
   "execution_count": 4,
   "id": "3577ff57",
   "metadata": {},
   "outputs": [
    {
     "data": {
      "text/plain": [
       "월    100\n",
       "화    200\n",
       "수    300\n",
       "목    400\n",
       "dtype: int64"
      ]
     },
     "execution_count": 4,
     "metadata": {},
     "output_type": "execute_result"
    }
   ],
   "source": [
    "s"
   ]
  },
  {
   "cell_type": "code",
   "execution_count": 6,
   "id": "523fd986",
   "metadata": {},
   "outputs": [],
   "source": [
    "s1 = s.drop('월')"
   ]
  },
  {
   "cell_type": "code",
   "execution_count": 7,
   "id": "86f6be07",
   "metadata": {},
   "outputs": [
    {
     "data": {
      "text/plain": [
       "월    100\n",
       "화    200\n",
       "수    300\n",
       "목    400\n",
       "dtype: int64"
      ]
     },
     "execution_count": 7,
     "metadata": {},
     "output_type": "execute_result"
    }
   ],
   "source": [
    "s"
   ]
  },
  {
   "cell_type": "code",
   "execution_count": 8,
   "id": "86199928",
   "metadata": {},
   "outputs": [
    {
     "data": {
      "text/plain": [
       "화    200\n",
       "수    300\n",
       "목    400\n",
       "dtype: int64"
      ]
     },
     "execution_count": 8,
     "metadata": {},
     "output_type": "execute_result"
    }
   ],
   "source": [
    "s1"
   ]
  },
  {
   "cell_type": "markdown",
   "id": "3998b8c3",
   "metadata": {},
   "source": [
    "## 시리즈 수정"
   ]
  },
  {
   "cell_type": "code",
   "execution_count": 9,
   "id": "95d43ecc",
   "metadata": {},
   "outputs": [
    {
     "data": {
      "text/plain": [
       "월    100\n",
       "화    200\n",
       "수    300\n",
       "목    400\n",
       "dtype: int64"
      ]
     },
     "execution_count": 9,
     "metadata": {},
     "output_type": "execute_result"
    }
   ],
   "source": [
    "s"
   ]
  },
  {
   "cell_type": "code",
   "execution_count": 10,
   "id": "36750915",
   "metadata": {},
   "outputs": [
    {
     "data": {
      "text/plain": [
       "월     100\n",
       "화     200\n",
       "수    3000\n",
       "목     400\n",
       "dtype: int64"
      ]
     },
     "execution_count": 10,
     "metadata": {},
     "output_type": "execute_result"
    }
   ],
   "source": [
    "s['수'] = 3000\n",
    "s"
   ]
  },
  {
   "cell_type": "code",
   "execution_count": 11,
   "id": "fc9f1fd8",
   "metadata": {},
   "outputs": [
    {
     "data": {
      "text/plain": [
       "월    1000\n",
       "화     200\n",
       "수    3000\n",
       "목     400\n",
       "dtype: int64"
      ]
     },
     "execution_count": 11,
     "metadata": {},
     "output_type": "execute_result"
    }
   ],
   "source": [
    "s.iloc[0] = 1000\n",
    "s"
   ]
  },
  {
   "cell_type": "code",
   "execution_count": 12,
   "id": "39f3a39d",
   "metadata": {},
   "outputs": [
    {
     "data": {
      "text/plain": [
       "월    1000\n",
       "화    2000\n",
       "수    3000\n",
       "목     400\n",
       "dtype: int64"
      ]
     },
     "execution_count": 12,
     "metadata": {},
     "output_type": "execute_result"
    }
   ],
   "source": [
    "s.loc['화'] = 2000\n",
    "s"
   ]
  },
  {
   "cell_type": "code",
   "execution_count": null,
   "id": "a87cd1f7",
   "metadata": {},
   "outputs": [],
   "source": []
  }
 ],
 "metadata": {
  "kernelspec": {
   "display_name": "Python 3 (ipykernel)",
   "language": "python",
   "name": "python3"
  },
  "language_info": {
   "codemirror_mode": {
    "name": "ipython",
    "version": 3
   },
   "file_extension": ".py",
   "mimetype": "text/x-python",
   "name": "python",
   "nbconvert_exporter": "python",
   "pygments_lexer": "ipython3",
   "version": "3.9.12"
  }
 },
 "nbformat": 4,
 "nbformat_minor": 5
}
