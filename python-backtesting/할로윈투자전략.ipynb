{
 "cells": [
  {
   "cell_type": "markdown",
   "metadata": {},
   "source": [
    "## 할로윈 투자 전략 백테스팅"
   ]
  },
  {
   "cell_type": "code",
   "execution_count": 1,
   "metadata": {},
   "outputs": [
    {
     "name": "stdout",
     "output_type": "stream",
     "text": [
      "Requirement already satisfied: finance-datareader in ./opt/anaconda3/lib/python3.8/site-packages (0.9.31)\n",
      "Requirement already satisfied: lxml in ./opt/anaconda3/lib/python3.8/site-packages (from finance-datareader) (4.6.1)\n",
      "Requirement already satisfied: requests>=2.3.0 in ./opt/anaconda3/lib/python3.8/site-packages (from finance-datareader) (2.24.0)\n",
      "Requirement already satisfied: pandas>=0.19.2 in ./opt/anaconda3/lib/python3.8/site-packages (from finance-datareader) (1.1.3)\n",
      "Requirement already satisfied: tqdm in ./opt/anaconda3/lib/python3.8/site-packages (from finance-datareader) (4.50.2)\n",
      "Requirement already satisfied: requests-file in ./opt/anaconda3/lib/python3.8/site-packages (from finance-datareader) (1.5.1)\n",
      "Requirement already satisfied: idna<3,>=2.5 in ./opt/anaconda3/lib/python3.8/site-packages (from requests>=2.3.0->finance-datareader) (2.10)\n",
      "Requirement already satisfied: certifi>=2017.4.17 in ./opt/anaconda3/lib/python3.8/site-packages (from requests>=2.3.0->finance-datareader) (2020.6.20)\n",
      "Requirement already satisfied: urllib3!=1.25.0,!=1.25.1,<1.26,>=1.21.1 in ./opt/anaconda3/lib/python3.8/site-packages (from requests>=2.3.0->finance-datareader) (1.25.11)\n",
      "Requirement already satisfied: chardet<4,>=3.0.2 in ./opt/anaconda3/lib/python3.8/site-packages (from requests>=2.3.0->finance-datareader) (3.0.4)\n",
      "Requirement already satisfied: python-dateutil>=2.7.3 in ./opt/anaconda3/lib/python3.8/site-packages (from pandas>=0.19.2->finance-datareader) (2.8.1)\n",
      "Requirement already satisfied: pytz>=2017.2 in ./opt/anaconda3/lib/python3.8/site-packages (from pandas>=0.19.2->finance-datareader) (2020.1)\n",
      "Requirement already satisfied: numpy>=1.15.4 in ./opt/anaconda3/lib/python3.8/site-packages (from pandas>=0.19.2->finance-datareader) (1.19.2)\n",
      "Requirement already satisfied: six in ./opt/anaconda3/lib/python3.8/site-packages (from requests-file->finance-datareader) (1.15.0)\n"
     ]
    }
   ],
   "source": [
    "!pip install finance-datareader"
   ]
  },
  {
   "cell_type": "code",
   "execution_count": 2,
   "metadata": {},
   "outputs": [],
   "source": [
    "# 코스피 지수 다운로드\n",
    "import FinanceDataReader as fdr"
   ]
  },
  {
   "cell_type": "code",
   "execution_count": 3,
   "metadata": {},
   "outputs": [],
   "source": [
    "kospi = fdr.DataReader('KS11', '2000')"
   ]
  },
  {
   "cell_type": "code",
   "execution_count": 4,
   "metadata": {},
   "outputs": [
    {
     "data": {
      "text/html": [
       "<div>\n",
       "<style scoped>\n",
       "    .dataframe tbody tr th:only-of-type {\n",
       "        vertical-align: middle;\n",
       "    }\n",
       "\n",
       "    .dataframe tbody tr th {\n",
       "        vertical-align: top;\n",
       "    }\n",
       "\n",
       "    .dataframe thead th {\n",
       "        text-align: right;\n",
       "    }\n",
       "</style>\n",
       "<table border=\"1\" class=\"dataframe\">\n",
       "  <thead>\n",
       "    <tr style=\"text-align: right;\">\n",
       "      <th></th>\n",
       "      <th>Close</th>\n",
       "      <th>Open</th>\n",
       "      <th>High</th>\n",
       "      <th>Low</th>\n",
       "      <th>Volume</th>\n",
       "      <th>Change</th>\n",
       "    </tr>\n",
       "    <tr>\n",
       "      <th>Date</th>\n",
       "      <th></th>\n",
       "      <th></th>\n",
       "      <th></th>\n",
       "      <th></th>\n",
       "      <th></th>\n",
       "      <th></th>\n",
       "    </tr>\n",
       "  </thead>\n",
       "  <tbody>\n",
       "    <tr>\n",
       "      <th>2000-01-04</th>\n",
       "      <td>1059.04</td>\n",
       "      <td>1028.33</td>\n",
       "      <td>1066.18</td>\n",
       "      <td>1016.59</td>\n",
       "      <td>1.959000e+08</td>\n",
       "      <td>0.0301</td>\n",
       "    </tr>\n",
       "    <tr>\n",
       "      <th>2000-01-05</th>\n",
       "      <td>986.31</td>\n",
       "      <td>1006.87</td>\n",
       "      <td>1026.52</td>\n",
       "      <td>984.05</td>\n",
       "      <td>2.577000e+08</td>\n",
       "      <td>-0.0687</td>\n",
       "    </tr>\n",
       "    <tr>\n",
       "      <th>2000-01-06</th>\n",
       "      <td>960.79</td>\n",
       "      <td>1013.95</td>\n",
       "      <td>1014.90</td>\n",
       "      <td>953.50</td>\n",
       "      <td>2.035200e+08</td>\n",
       "      <td>-0.0259</td>\n",
       "    </tr>\n",
       "    <tr>\n",
       "      <th>2000-01-07</th>\n",
       "      <td>948.65</td>\n",
       "      <td>949.17</td>\n",
       "      <td>970.16</td>\n",
       "      <td>930.84</td>\n",
       "      <td>2.156600e+08</td>\n",
       "      <td>-0.0126</td>\n",
       "    </tr>\n",
       "    <tr>\n",
       "      <th>2000-01-10</th>\n",
       "      <td>987.24</td>\n",
       "      <td>979.67</td>\n",
       "      <td>994.94</td>\n",
       "      <td>965.02</td>\n",
       "      <td>2.401800e+08</td>\n",
       "      <td>0.0407</td>\n",
       "    </tr>\n",
       "    <tr>\n",
       "      <th>...</th>\n",
       "      <td>...</td>\n",
       "      <td>...</td>\n",
       "      <td>...</td>\n",
       "      <td>...</td>\n",
       "      <td>...</td>\n",
       "      <td>...</td>\n",
       "    </tr>\n",
       "    <tr>\n",
       "      <th>2021-04-26</th>\n",
       "      <td>3217.53</td>\n",
       "      <td>3191.34</td>\n",
       "      <td>3217.53</td>\n",
       "      <td>3191.34</td>\n",
       "      <td>1.300000e+09</td>\n",
       "      <td>0.0099</td>\n",
       "    </tr>\n",
       "    <tr>\n",
       "      <th>2021-04-27</th>\n",
       "      <td>3215.42</td>\n",
       "      <td>3218.30</td>\n",
       "      <td>3223.05</td>\n",
       "      <td>3203.25</td>\n",
       "      <td>1.530000e+09</td>\n",
       "      <td>-0.0007</td>\n",
       "    </tr>\n",
       "    <tr>\n",
       "      <th>2021-04-28</th>\n",
       "      <td>3181.47</td>\n",
       "      <td>3217.21</td>\n",
       "      <td>3219.69</td>\n",
       "      <td>3176.55</td>\n",
       "      <td>1.410000e+09</td>\n",
       "      <td>-0.0106</td>\n",
       "    </tr>\n",
       "    <tr>\n",
       "      <th>2021-04-29</th>\n",
       "      <td>3174.07</td>\n",
       "      <td>3184.75</td>\n",
       "      <td>3200.41</td>\n",
       "      <td>3161.06</td>\n",
       "      <td>1.220000e+09</td>\n",
       "      <td>-0.0023</td>\n",
       "    </tr>\n",
       "    <tr>\n",
       "      <th>2021-04-30</th>\n",
       "      <td>3147.86</td>\n",
       "      <td>3176.43</td>\n",
       "      <td>3179.43</td>\n",
       "      <td>3143.38</td>\n",
       "      <td>1.340000e+06</td>\n",
       "      <td>-0.0083</td>\n",
       "    </tr>\n",
       "  </tbody>\n",
       "</table>\n",
       "<p>5267 rows × 6 columns</p>\n",
       "</div>"
      ],
      "text/plain": [
       "              Close     Open     High      Low        Volume  Change\n",
       "Date                                                                \n",
       "2000-01-04  1059.04  1028.33  1066.18  1016.59  1.959000e+08  0.0301\n",
       "2000-01-05   986.31  1006.87  1026.52   984.05  2.577000e+08 -0.0687\n",
       "2000-01-06   960.79  1013.95  1014.90   953.50  2.035200e+08 -0.0259\n",
       "2000-01-07   948.65   949.17   970.16   930.84  2.156600e+08 -0.0126\n",
       "2000-01-10   987.24   979.67   994.94   965.02  2.401800e+08  0.0407\n",
       "...             ...      ...      ...      ...           ...     ...\n",
       "2021-04-26  3217.53  3191.34  3217.53  3191.34  1.300000e+09  0.0099\n",
       "2021-04-27  3215.42  3218.30  3223.05  3203.25  1.530000e+09 -0.0007\n",
       "2021-04-28  3181.47  3217.21  3219.69  3176.55  1.410000e+09 -0.0106\n",
       "2021-04-29  3174.07  3184.75  3200.41  3161.06  1.220000e+09 -0.0023\n",
       "2021-04-30  3147.86  3176.43  3179.43  3143.38  1.340000e+06 -0.0083\n",
       "\n",
       "[5267 rows x 6 columns]"
      ]
     },
     "execution_count": 4,
     "metadata": {},
     "output_type": "execute_result"
    }
   ],
   "source": [
    "kospi"
   ]
  },
  {
   "cell_type": "code",
   "execution_count": 5,
   "metadata": {},
   "outputs": [
    {
     "data": {
      "text/plain": [
       "577.36"
      ]
     },
     "execution_count": 5,
     "metadata": {},
     "output_type": "execute_result"
    }
   ],
   "source": [
    "kospi['2001-04'].iloc[-1]['Close']"
   ]
  },
  {
   "cell_type": "code",
   "execution_count": 6,
   "metadata": {},
   "outputs": [],
   "source": [
    "# 2000-11, 2001-04\n",
    "# 2001-11, 2002-04\n",
    "# ...."
   ]
  },
  {
   "cell_type": "code",
   "execution_count": 7,
   "metadata": {},
   "outputs": [
    {
     "name": "stdout",
     "output_type": "stream",
     "text": [
      "6.18585306815823\n"
     ]
    }
   ],
   "source": [
    "누적수익률 = 1.0\n",
    "\n",
    "for year in range(2000, 2021):  # 2020\n",
    "    buy_month = str(year) + '-11'   # 2020-11\n",
    "    sell_month = str(year+1) + '-04' # 2021-04\n",
    "    #print(buy_month, sell_month)\n",
    "    \n",
    "    매수가 = kospi[buy_month].iloc[0]['Open']\n",
    "    매도가 = kospi[sell_month].iloc[-1]['Close']\n",
    "    \n",
    "    수익률 = 매도가 / 매수가    # 1.1 \n",
    "    누적수익률 = 누적수익률 * 수익률\n",
    "    \n",
    "print(누적수익률)"
   ]
  },
  {
   "cell_type": "code",
   "execution_count": 8,
   "metadata": {},
   "outputs": [
    {
     "data": {
      "text/plain": [
       "9.06507321504515"
      ]
     },
     "execution_count": 8,
     "metadata": {},
     "output_type": "execute_result"
    }
   ],
   "source": [
    "# CAGR \n",
    "CAGR = (누적수익률 ** (1/21)) -1\n",
    "CAGR * 100"
   ]
  },
  {
   "cell_type": "code",
   "execution_count": 9,
   "metadata": {},
   "outputs": [
    {
     "data": {
      "text/plain": [
       "5.4720242267011"
      ]
     },
     "execution_count": 9,
     "metadata": {},
     "output_type": "execute_result"
    }
   ],
   "source": [
    "# 2000-01-04 ~ 2021-04-27\n",
    "존버수익률 = kospi.iloc[-1]['Close'] / kospi.iloc[0]['Open']\n",
    "존버CAGR = (존버수익률 ** (1/21))-1\n",
    "존버CAGR * 100"
   ]
  },
  {
   "cell_type": "code",
   "execution_count": 10,
   "metadata": {},
   "outputs": [],
   "source": [
    "# 11 ~ 04 ??\n",
    "# 12 ~ 05 ??\n",
    "# 01 ~ 05 ??"
   ]
  },
  {
   "cell_type": "code",
   "execution_count": 14,
   "metadata": {},
   "outputs": [],
   "source": [
    "def 투자6개월(df, 시작년=2000, 종료년=2020, 매수월=11):\n",
    "    매도월 = 매수월 + 5\n",
    "    if 매도월 > 12:\n",
    "        매도월 = 매도월 - 12\n",
    "    \n",
    "    누적수익률 = 1.0\n",
    "    for year in range(시작년, 종료년): \n",
    "        # 매수년, 매도년\n",
    "        매수년 = year\n",
    "        if 매수월 >=8:\n",
    "            매도년 = 매수년 + 1\n",
    "        else:\n",
    "            매도년 = 매수년 \n",
    "        \n",
    "        buy_month = str(매수년) + '-' + str(매수월)\n",
    "        sell_month = str(매도년) + '-' + str(매도월)\n",
    "\n",
    "        매수가 = df[buy_month].iloc[0]['Open']\n",
    "        매도가 = df[sell_month].iloc[-1]['Close']\n",
    "        수익률 = 매도가 / 매수가    # 1.1 \n",
    "        누적수익률 = 누적수익률 * 수익률\n",
    "\n",
    "    return 누적수익률"
   ]
  },
  {
   "cell_type": "code",
   "execution_count": 15,
   "metadata": {},
   "outputs": [
    {
     "data": {
      "text/plain": [
       "1.715515517234518"
      ]
     },
     "execution_count": 15,
     "metadata": {},
     "output_type": "execute_result"
    }
   ],
   "source": [
    "투자6개월(kospi, 시작년=2000, 종료년=2020, 매수월=1)"
   ]
  },
  {
   "cell_type": "code",
   "execution_count": 16,
   "metadata": {},
   "outputs": [
    {
     "name": "stdout",
     "output_type": "stream",
     "text": [
      "1 1.715515517234518\n",
      "2 1.593210114545141\n",
      "3 1.4106951537801888\n",
      "4 1.084441017119031\n",
      "5 0.5420308160464744\n",
      "6 0.9135801930133913\n",
      "7 1.2230482142965493\n",
      "8 1.370266629081715\n",
      "9 1.5736491802994477\n",
      "10 1.9006723666958842\n",
      "11 4.4737615248135905\n",
      "12 3.0055369128758636\n"
     ]
    }
   ],
   "source": [
    "for month in range(1, 12+1):\n",
    "    누적수익률 = 투자6개월(kospi, 시작년=2000, 종료년=2020, 매수월=month)\n",
    "    print(month, 누적수익률)"
   ]
  },
  {
   "cell_type": "code",
   "execution_count": null,
   "metadata": {},
   "outputs": [],
   "source": []
  }
 ],
 "metadata": {
  "kernelspec": {
   "display_name": "Python 3",
   "language": "python",
   "name": "python3"
  },
  "language_info": {
   "codemirror_mode": {
    "name": "ipython",
    "version": 3
   },
   "file_extension": ".py",
   "mimetype": "text/x-python",
   "name": "python",
   "nbconvert_exporter": "python",
   "pygments_lexer": "ipython3",
   "version": "3.8.5"
  }
 },
 "nbformat": 4,
 "nbformat_minor": 4
}
